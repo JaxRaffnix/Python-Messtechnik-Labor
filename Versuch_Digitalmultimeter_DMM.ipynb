{
 "cells": [
  {
   "cell_type": "markdown",
   "metadata": {},
   "source": [
    "# Lernziele\n",
    "* Umgang mit einem Digitalmultimeter\n",
    "  * Vornehmen der Grundeinstellungen\n",
    "  * Nullpunktkorrektur\n",
    "  * Vornehmen verschiedener Einstellungen über die serielle Schnittstelle\n",
    "  * Messung von Strömen, Spannungen und Widerständen\n",
    "* Umgang mit der seriellen Schnittstelle RS232\n",
    "  * Einstellen der Schnittstelle\n",
    "  * Kennenlernen der prinzipiellen Vorgehensweise\n",
    "  * Manuelles Auslesen von Daten\n",
    "* Verwendung des Jupyter-Notebook und Python\n",
    "  * Kennenlernen der Software und einzelner Funktionen\n",
    "  * Ansprechen der seriellen Schnittstelle\n",
    "  * Verwendung des Jupyter-Notebook zum automatisierten Auslesen und Auswerten von Messdaten über die serielle Schnittstelle\n",
    "* Widerstandsmessung\n",
    "  * Vergleichen von strom- und spannungsrichtigen Messschaltungen\n",
    "* Messabweichungen und Fehlerrechung\n",
    "  * Berechnung und Beurteilung der Kennwerte Mittelwert, Median und der Standardabweichung, sowie Erfahren des Einflusses der Messwertanzahl auf diese Kennwerte\n",
    "  * Beurteilung und Erfahren der Einflussnahme der systematischen und statistischen Messfehler"
   ]
  },
  {
   "cell_type": "markdown",
   "metadata": {},
   "source": [
    "# Grundlagen"
   ]
  },
  {
   "cell_type": "markdown",
   "metadata": {},
   "source": [
    "## Einführung RS232-Schnittstelle\n",
    "Die serielle Schnittstelle dient zum Datenaustausch zwischen Computer und einem Peripheriegerät.\n",
    "Eine RS-232 Schnittstelle arbeitet (bit-)seriell mit je einer Datenleitung\n",
    "für beide Übertragungsrichtungen. Das heißt, die Bits werden nacheinander auf einer\n",
    "Leitung übertragen, wobei in der Regel 8 Datenbits von einem Startbit und mindestens\n",
    "einem Stopbit eingerahmt werden. Weitere moderne serielle Schnittstellen sind z.\n",
    "B. Ethernet, USB, Firewire, CAN-Bus oder RS-485. In diesem Versuch soll nun der\n",
    "grundlegende Umgang mit dieser Schnittstelle gezeigt werden. Für diesen Versuch wird\n",
    "ein USB-Seriell Adapter verwendet, wie in Abbildung 1 dargestellt.\n",
    "\n",
    "![USB-Serial Adapter](usb_serial_adapter.jpg \"Abbildung 1: USB-Serial Adapter\")"
   ]
  },
  {
   "cell_type": "markdown",
   "metadata": {},
   "source": [
    "## Virtueller COM-Port\n",
    "Um mit der Schnittstelle arbeiten zu können muss ein virtueller COM-Port angelegt\n",
    "werden. Dieser ist notwendig, da mit einem USB-Seriell Adapter gearbeitet wird. Somit\n",
    "wird aus einem USB Anschluss ein (virtueller) serieller Anschluss."
   ]
  },
  {
   "cell_type": "markdown",
   "metadata": {},
   "source": [
    "## Tischmultimeter Escort 3136A\n",
    "Das Escort 3136A Tischmultimeter ist ein einfach zu bedienendes Messgerät und vielseitig\n",
    "einsetzbar. Abbildungen 2, 3 zeigen Front- und Rückansicht des Geräts. Die\n",
    "Hauptfunktionen sind:\n",
    "\n",
    "* 1 μV Auflösung bei VDC Messung\n",
    "* Berechnung der RMS-Werte („Echter“ Effektivwert) für VAC + VDC bzw. AAC + ADC\n",
    "* Widerstandsmessung mittels Zweileitermethode\n",
    "* Frequenzmessung bis zu 1 MHz\n",
    "* Fernsteuerung über RS-232 Schnittstelle\n",
    "\n",
    "![ESCORT 3136A Vorderseite](escort_vorderseite.jpg \"Abbildung 2: ESCORT 3136A Vorderseite\")\n",
    "\n",
    "![ESCORT 3136A Rückseite](escort_rueckseite.jpg \"Abbildung 3: ESCORT 3136A Rückseite\")\n"
   ]
  },
  {
   "cell_type": "markdown",
   "metadata": {},
   "source": [
    "## Widerstandsmessung mit der Zweileitermethode\n",
    "Prinzipiell gibt es für die direkte Messung mittels der Zweileitermethode drei Möglichkeiten:\n",
    "\n",
    "1. **Widerstand an einer idealen Stromquelle**\n",
    "  + Der zu messende Widerstand Rx wird von einem konstanten Strom durchflossen, der Spannungsabfall am Widerstand ist proportional zum Widerstandswert.\n",
    "\n",
    "![Widerstand an einer idealen Stromquelle](widerstand_stromquelle.jpg \"Abbildung 4: Widerstand an einer idealen Stromquelle\")\n",
    "\n",
    "2. **Widerstand an einer idealen Spannungsquelle**\n",
    "  + Der zu messende Widerstand wird an eine konstante Spannung gelegt. Der Strom durch den Widerstand ist proportional zum Leitwert (G=1/Rx).\n",
    "\n",
    "![Widerstand an einer idealen Spannungsquelle](widerstand_spannungsquelle.jpg \"Abbildung 5: Widerstand an einer idealen Spannungsquelle\")\n",
    "\n",
    "3. **Widerstand an einer realen Spannungsquelle**\n",
    "  + Der zu messende Widerstand wird an eine reale Spannungsquelle mit Quellenspannung und Innenwiderstand angeschlossen. Aus der Messung des Stroms durch den Widerstand sowie der am Widerstand abfallenden Spannung kann der Widerstandswert bestimmt werden.\n",
    "\n",
    "![Widerstand an einer realen Spannungsquelle](widerstand_spannungsquelle_real.jpg \"Abbildung 6: Widerstand an einer realen Spannungsquelle\")\n"
   ]
  },
  {
   "cell_type": "markdown",
   "metadata": {},
   "source": [
    "# Versuchsvorbereitung"
   ]
  },
  {
   "cell_type": "markdown",
   "metadata": {},
   "source": [
    "## Bedienung der Software Jupyter-Notebook\n",
    "\n",
    "Jupyter-Notebook startet einen Server, die Bedienung erfolgt über einen Browser. Am übersichtlichsten ist es, wenn Jupyter-Notebook über die Kommandozeile im Anaconda Propmpt gestartet wird. Ermitteln Sie zunchst den Speicherort des Ordners der Datei \"Versuch_DMM.ipynb\" die sich in einem Unterordner von \"DMM\" auf dem Desktop befindet (Rechtsklick auf das Symbol -> Eigenschaften). \n",
    "\n",
    "Öffnen Sie einen Anaconda Prompt, z. B. durch Eintippen von \"Anaconda Prompt\" im Windows Startfenster. In der Kommandozeile wechseln Sie durch Eingabe des Befehls \"cd <Zielverzeichnis>\" in das Verzeichnis, in dem sich das Jupyternotebook \"Versuch_DMM.ipynb\" befindet.  \n",
    "\n",
    "Durch Eingabe von \n",
    "jupyter-notebook Versuch_DMM.ipynb \n",
    "wird schließlich der jupyter-notebook Server gestartet und das aufgerufene Notebook geöffnet. \n",
    "\n",
    "Fenster werden mit \"Shift Return\" ausgeführt, bei Codefenstern wird der darin befindliche Python-Code abgearbeitet. Wenn es bei längerem Herumprobieren zu Ungereimtheiten kommt, sollte im Zweifelsfall der Kernel neu gestartet werden (Kernel -> Restart & Clear Output).\n",
    "\n",
    "Dieses Notebook ist dazu da, mit Ihren Beobachtungen, Messungen und Kommentaren ergänzt zu werden. Nach Beendigung des Versuchs haben Sie dann bereits ein fertiges Versuchsprotokoll, das nur noch von einem Betreuer durgesehen werden muss. \n"
   ]
  },
  {
   "cell_type": "markdown",
   "metadata": {},
   "source": [
    "## Bedienung des digitalen Tischmultimeters Escort 3136A\n",
    "Bereiten Sie anhand der Bedienungsanleitung des digitalen Multimeters Escort 3136A\n",
    "vor, wie Sie\n",
    "\n",
    "* Spannungs-, Strom- und Widerstandsmessung am Multimeter einstellen,\n",
    "* eine Nullpunktkorrektur vornehmen, um einen Nullpunktfehler (Offset) zu kompensieren,\n",
    "* die Vorgabewerte für die serielle Schnittstelle am Multimeter einstellen (Baud-Rate, Parity, Data-Bit, Stop-Bit, Echo und Printer-Only).\n",
    "\n",
    "Lesen Sie den Abschnitt <RS232 Remote Operation> in der Bedienungsanleitung des\n",
    "Multimeters und notieren Sie sich die für die verschiedenen Versuche benötigten KEY,\n",
    "SET und QUERY-Befehle.\n",
    "Hinweis: Wird im Display des Multimeters „Remote“ angezeigt, so befindet sich das\n",
    "Multimeter im Fernbedienungsmodus. In diesem Modus sind einige Tasten am Multimeter\n",
    "ohne Funktion. Durch Drücken der Taste „Local“ am Multimeter können Sie den\n",
    "Fernbedienungsmodus verlassen."
   ]
  },
  {
   "cell_type": "markdown",
   "metadata": {},
   "source": [
    "# Versuchsdurchführung"
   ]
  },
  {
   "cell_type": "markdown",
   "metadata": {},
   "source": [
    "## Ansprechen der Schnittstelle"
   ]
  },
  {
   "cell_type": "markdown",
   "metadata": {},
   "source": [
    "### Grundeinstellung des digitalen Multimeters\n",
    "Für den ersten Versuchsteil wird nur ein Multimeter benötigt. Damit Python über die\n",
    "Schnittstelle einwandfrei kommunizieren kann, müssen die Grundeinstellungen des Messgeräts\n",
    "überprüft werden. Hierzu sind folgende manuelle Eingaben auf den Tasten des\n",
    "Geräts notwendig:\n",
    "Öffnen Sie das Menü des Multimeters.\n",
    "\n",
    "* Shift –> Setup\n",
    "* RS232 auswählen und mit Shift/Enter bestätigen\n",
    "* mit 5-Taste folgende Einstellungen anwählen:\n",
    "  * baud = 9600\n",
    "  * parity = none\n",
    "  * data = 8 Bit\n",
    "  * stop = 1 Bit\n",
    "  * echo = off\n",
    "  * print = off\n",
    "\n",
    "Ändern der Werte unter Verwendung von:\n",
    "\n",
    "* mit / . Wert ändern\n",
    "* Bestätigen mit Shift/Enter\n",
    "* Menü verlassen mit ESC\n",
    "\n",
    "Überprüfen Sie die Einstellungen in beiden Multimetern. Deaktivieren Sie vor allem die\n",
    "akustische Tastatur-Quittierung durch Abschalten im Menüpunkt „Beep –> Off“."
   ]
  },
  {
   "cell_type": "markdown",
   "metadata": {},
   "source": [
    "## Arbeiten mit der Schnittstelle in Jupyter-Notebook mit Python"
   ]
  },
  {
   "cell_type": "markdown",
   "metadata": {},
   "source": [
    "### COM-Ports mithilfe des Gerätemanagers ermitteln\n",
    "Öffnen Sie den Geräte-Manager von Windows und finden Sie unter **Anschlüsse (COM & LPT)** die virtuellen COM-Ports, an denen die beiden Digitalmultimeter angeschlossen sind.\n",
    "\n",
    "Alternativ kann dazu auch Python verwendet werden. Verwenden Sie für den ersten Versuchsteil nur ein Multimeter. "
   ]
  },
  {
   "cell_type": "code",
   "execution_count": null,
   "metadata": {},
   "outputs": [],
   "source": [
    "# Namen der Schnittstellen werden in ports.txt abgelegt\n",
    "import os\n",
    "\n",
    "# Python-Befehl wird an das Betriebssystem übergeben und das Resultat über Pipeline in Datei geschrieben\n",
    "os.system(\"python -m serial.tools.list_ports > ports.txt\")\n",
    "\n",
    "# Liste der Ports wird initialisiert\n",
    "port = []\n",
    "\n",
    "f = open(\"ports.txt\")\n",
    "portList = f.readlines()\n",
    "#print(portList)\n",
    "print(\"available serial ports\")\n",
    "for i in range(len(portList)) : \n",
    "    tmpPort = portList[i]\n",
    "    port.append(tmpPort[0:6])\n",
    "    print(port[i])"
   ]
  },
  {
   "cell_type": "markdown",
   "metadata": {},
   "source": [
    "Ordnen Sie die gefundenen Schnittstellen den Digitalmultimetern zu. "
   ]
  },
  {
   "cell_type": "markdown",
   "metadata": {},
   "source": [
    "### Grundprinzip"
   ]
  },
  {
   "cell_type": "markdown",
   "metadata": {},
   "source": [
    "### Module importieren und Parameter einstellen"
   ]
  },
  {
   "cell_type": "code",
   "execution_count": null,
   "metadata": {},
   "outputs": [],
   "source": [
    "#import dmm\n",
    "import serial\n",
    "import time"
   ]
  },
  {
   "cell_type": "markdown",
   "metadata": {},
   "source": [
    "## Kommunikation zwischen PC und DMM\n",
    "\n",
    "Zunächst muss die Kommunikation über die serielle Scnnittstelle initialisiert und die Schnittstelle zum Lesen und Schreiben geöffnet werden. \n"
   ]
  },
  {
   "cell_type": "code",
   "execution_count": null,
   "metadata": {},
   "outputs": [],
   "source": [
    "timeoutVal = 1              # timeout für Zugriff auf serielle Schnittstell 1 Sekunde\n",
    "portName   = ''             # zutreffende Portnummer eintragen\n",
    "\n",
    "dmm = serial.Serial(portName, timeout = timeoutVal)"
   ]
  },
  {
   "cell_type": "markdown",
   "metadata": {},
   "source": [
    "Bei einer Fehlermeldung an dieser Stelle war die Schnittstelle vermutlich schon geöffnet. Ist keine Fehlermeldung aufgetreten, führen Sie den obigen Befehl einfach ein weiteres Mal aus. Daher ist ein sogenanntes Exception-Handling empfehlenswert:"
   ]
  },
  {
   "cell_type": "code",
   "execution_count": null,
   "metadata": {},
   "outputs": [],
   "source": [
    "timeoutVal = 1              # timeout für Zugriff auf serielle Schnittstell 1 Sekunde\n",
    "portName   = ''             # zutreffende Portnummer eintragen\n",
    "\n",
    "try :\n",
    "    dmm = serial.Serial(portName, timeout = timeoutVal)\n",
    "\n",
    "except : \n",
    "    print('exception handler:')\n",
    "    print('port ' + portName + ' already in use')\n",
    "    print('closing port ' + portName)\n",
    "    print('opening port ' + portName)\n",
    "    dmm.close()\n",
    "    dmm = serial.Serial(portName, timeout = timeoutVal)\n",
    "\n",
    "print(\"DMM connected to\", dmm.name)\n"
   ]
  },
  {
   "cell_type": "markdown",
   "metadata": {},
   "source": [
    "Es können weitere Eigenschaften des Objekts ausgegeben werden: "
   ]
  },
  {
   "cell_type": "code",
   "execution_count": null,
   "metadata": {},
   "outputs": [],
   "source": [
    "print('dmm = ', dmm)\n",
    "print('dmm.baudrate = ', dmm.baudrate)"
   ]
  },
  {
   "cell_type": "markdown",
   "metadata": {},
   "source": [
    "Nachdem die Schnittstelle erfolgreich geöffnet wurde, kann die Kommunikation mit dem Gerät erfolgen. Dabei ist zu beachten, dass jeder Befehl, der zum Gerät geschickt wird, von diesem durch mindestens eine Rückmeldung quittiert wird.\n",
    "\n",
    "Rückmeldungen gemäß Table 6-2 der DMM-Anleitung\n",
    "\n",
    "\n",
    "![Table 6-2. RS-232 Return Prompts](Abb_DMM_Table_6-2.png \"Antworten des Geräts auf empfangene Befehle\")\n",
    "\n",
    "\n"
   ]
  },
  {
   "cell_type": "markdown",
   "metadata": {},
   "source": [
    "\n",
    "Alle Funktionen des Geräts könne über die serielle Schnittstelle gesteurt werden. Besonders einfach sind hierbei die sogenannten Key Commands, die die Betätigung der Tasten an der Frontplatte nachbilden. D. h. das Gerät reagiert auf den Key Command so, als wäre per Hand die zugehörige Taste gedrückt worden. \n",
    "\n",
    "Die Key Commands sind in Table 6-3 der DMM-Anleitung aufgeführt. \n",
    "\n",
    "![Table 6-3. RS-232 Key Commands](Abb_DMM_Table_6-3.png \"Key-Commands des Multimeters\")\n",
    "\n",
    "Wichtig für die korrekte Kommunikation ist, dass jeder Befehl korrekt terminiert wird. Hierzu dienen die Zeichen CR (carriage return) und LF (line feed). Dabei ist zu beachten, dass bei Schreibbefehlen in Python automatisch am Ende ein LF gesendet wird. Daher ist nur noch ein CR zu ergänzen, das in Python durch \\r codiert wird. \n"
   ]
  },
  {
   "cell_type": "markdown",
   "metadata": {},
   "source": [
    "### Beispiel Reset-Befehl (Multimeter zurücksetzen)"
   ]
  },
  {
   "cell_type": "markdown",
   "metadata": {},
   "source": [
    "Von den weiteren Befehle zum Steuern des Multimeters soll zunächst der Reset-Befehl verwendet werden (Table 6-9 sowie S. 63 ff.) Nach dem Reset-Befehl wird dieser zunächst quittiert und anschließend der durchgeführte Reset bestätigt. \n",
    "\n"
   ]
  },
  {
   "cell_type": "code",
   "execution_count": null,
   "metadata": {},
   "outputs": [],
   "source": [
    "# Befehl an Gerät\n",
    "numBytes = dmm.write(b'RST\\r')               # \\r entspricht CR, \\n wird automatisch gesendet\n",
    "print(\"Zahl der übertragenen Bytes: \", numBytes)\n",
    "print(dmm.readline())\n",
    "time.sleep(2)                                # kurz warten, da die Ausführung etwas dauert\n",
    "print(dmm.readline())\n",
    "print(dmm.readline())"
   ]
  },
  {
   "cell_type": "markdown",
   "metadata": {},
   "source": [
    "Vergleichen Sie die empfangenen Quittierungen mit Table 6-2 und erläutern Sie die Antwort des Geräts.\n",
    "\n",
    "\n",
    "\n",
    "\n",
    "\n",
    "\n",
    "\n",
    "\n",
    "\n",
    "\n",
    "\n",
    "\n",
    "\n",
    "\n",
    "\n"
   ]
  },
  {
   "cell_type": "markdown",
   "metadata": {},
   "source": [
    "### Firmware-Version auslesen\n",
    "Ermitteln Sie aus der Anleitung den erforderlichen Befehl zum Auslesen der Firmware-Version und ergänzen Sie die folgenden Codezeilen. "
   ]
  },
  {
   "cell_type": "code",
   "execution_count": null,
   "metadata": {},
   "outputs": [],
   "source": [
    "# Befehl an Gerät\n",
    "numBytes = dmm.write(b'')               \n",
    "print(\"Zahl der übertragenen Bytes: \", numBytes)\n",
    "print(dmm.readline())\n",
    "print(dmm.readline())\n",
    "print(dmm.readline())\n",
    "print(dmm.readline())"
   ]
  },
  {
   "cell_type": "markdown",
   "metadata": {},
   "source": [
    "Vor dem nächsten Abschnitt muss die Schnittstelle wieder geschlossen werden."
   ]
  },
  {
   "cell_type": "code",
   "execution_count": null,
   "metadata": {},
   "outputs": [],
   "source": [
    "dmm.close()"
   ]
  },
  {
   "cell_type": "markdown",
   "metadata": {},
   "source": [
    "## Widerstandsmessung mit Zweileitermethode"
   ]
  },
  {
   "cell_type": "markdown",
   "metadata": {},
   "source": [
    "### Verbindung herstellen\n",
    "Tragen Sie für diese Messung den Port des Multimeters ein, welches Sie für die **Widerstandsmessung** verwenden wollen. "
   ]
  },
  {
   "cell_type": "code",
   "execution_count": null,
   "metadata": {},
   "outputs": [],
   "source": [
    "timeoutVal = 1\n",
    "port = ''\n",
    "\n",
    "try :\n",
    "    resistance=serial.Serial(port, timeout = timeoutVal)\n",
    "except : \n",
    "    resistance.close()\n",
    "    resistance=serial.Serial(port, timeout = timeoutVal)\n",
    "print(\"Voltmeter connected to \", resistance.name)"
   ]
  },
  {
   "cell_type": "markdown",
   "metadata": {},
   "source": [
    "### Widerstandsmessung einstellen\n",
    "Finden Sie in der Bedienungsanleitung des Multimeters den Befehl zur Einstellung des Messmodus **Widerstandsmessung** mit **automatischer** Messbereichseinstellung.\n",
    "\n",
    "Tragen Sie die den Befehl zur Umschaltung auf Widerstandsmessung zwischen den Hochkommas ein:"
   ]
  },
  {
   "cell_type": "code",
   "execution_count": null,
   "metadata": {},
   "outputs": [],
   "source": [
    "# Befehl an Gerät\n",
    "numBytes = resistance.write(b'')\n",
    "print(\"Zahl der übertragenen Bytes: \", numBytes)"
   ]
  },
  {
   "cell_type": "code",
   "execution_count": null,
   "metadata": {},
   "outputs": [],
   "source": [
    "# Rückmeldung vom Gerät\n",
    "resistance.readline()"
   ]
  },
  {
   "cell_type": "markdown",
   "metadata": {},
   "source": [
    "### Nullpunktkorrektur"
   ]
  },
  {
   "cell_type": "code",
   "execution_count": null,
   "metadata": {},
   "outputs": [],
   "source": [
    "# Befehl an Gerät\n",
    "numBytes = resistance.write(b'')\n",
    "print(\"Zahl der übertragenen Bytes:\", numBytes)"
   ]
  },
  {
   "cell_type": "code",
   "execution_count": null,
   "metadata": {},
   "outputs": [],
   "source": [
    "# Rückmeldung vom Gerät\n",
    "resistance.readline()"
   ]
  },
  {
   "cell_type": "markdown",
   "metadata": {},
   "source": [
    "### Einlesen der primären Anzeige\n",
    "Beim Einlesen von Anzeigewerten gibt das Gerät zunächst den Zahlenwert zurück und anschließend die Quittierung. Ermitteln Sie  den Befehl zum Auslesen der primären Anzeige. "
   ]
  },
  {
   "cell_type": "code",
   "execution_count": null,
   "metadata": {},
   "outputs": [],
   "source": [
    "resistance.write(b'')\n",
    "resValue = resistance.readline()\n",
    "print(resValue)\n",
    "\n",
    "ackValue = resistance.readline()\n",
    "print(ackValue)\n",
    "\n",
    "# serieller Puffer wird geleert um zu sehen, ob noch weitere Meldungen kommen\n",
    "while len(ackValue) > 3 : \n",
    "        ackValue=resistance.readline()   \n",
    "        print(\"length of ackValue string = \", len(ackValue), \", ackValue string = \", ackValue)\n"
   ]
  },
  {
   "cell_type": "markdown",
   "metadata": {},
   "source": [
    "Was passiert, wenn nach Abschicken eines Lesebefehls der serielle Puffer nicht vollständig geleert wird? Probieren Sie es aus, indem Sie nach einem Lesebefehl nur einmal readline() ausführen und dann nochmal einen Lesebefehl an das Gerät schicken.\n"
   ]
  },
  {
   "cell_type": "markdown",
   "metadata": {},
   "source": [
    "Es soll zum Abschluss dieses Versuchsteils der Kontaktwiderstand eines Relaiskontakts gemessen werden. Verdrahten Sie dazu die Relaisplatine so, dass der Relaiskontkt durch Betätigung eines Schalters geschlossen werden kann. \n",
    "\n",
    "Messen Sie zunächst den Widerstand durch eine Zweileitermessung (Messbereich Ohm) mit und ohne Nullpunktkorrektur. \n",
    "\n",
    "Protokollieren Sie die Messergebnisse hier: \n",
    "\n",
    "\n"
   ]
  },
  {
   "cell_type": "markdown",
   "metadata": {},
   "source": [
    "Wenn genug Zeit vorhanden ist, sollten Sie noch ausprobieren, wie der Messbereich des DMM über die serielle Schnittstelle umgeschaltet werden kann (und natürlich hier mitprotokollieren)."
   ]
  },
  {
   "cell_type": "code",
   "execution_count": null,
   "metadata": {},
   "outputs": [],
   "source": [
    "# hier könnte der Code zum Umschalten des Messbereichs stehen"
   ]
  },
  {
   "cell_type": "markdown",
   "metadata": {},
   "source": [
    "### Verbindung schließen\n",
    "Nach Beendigung der Messungen muss die Schnittstelle wieder ordnungsgemäß geschlossen werden. "
   ]
  },
  {
   "cell_type": "code",
   "execution_count": null,
   "metadata": {},
   "outputs": [],
   "source": [
    "# Befehl zum Schließen der Verbindung\n",
    "resistance.close()"
   ]
  },
  {
   "cell_type": "markdown",
   "metadata": {},
   "source": [
    "## Messung sehr kleiner Widerstände mit Vierleitermessung\n",
    "\n",
    "Der Kontaktwiderstand soll nun durch eine Vierleitermessung bestimmt werden. Verwenden Sie dazu eines der DMM als Voltmeter und eines als Amperemeter. Als Spannungsquelle für die Messung dient ein Labornetzteil mit eingestellter Strombegrenzung I = 0,1 A. Das Labornetzteil demzufolge als Stromquelle, wenn die Strombegrenzung einsetzt\n",
    "\n",
    "Verwenden Sie die Relaisplatine (vgl. Abschnitt Halbautomatisierte Messung)"
   ]
  },
  {
   "cell_type": "code",
   "execution_count": null,
   "metadata": {},
   "outputs": [],
   "source": [
    "# hier muss die korrekte Portzuordnung eingetragen werden\n",
    "voltPort = ''          # für Spannungsmessung\n",
    "currPort = ''          # für Strommessung"
   ]
  },
  {
   "cell_type": "markdown",
   "metadata": {},
   "source": [
    "Überprüfen Sie die Zuordnung, indem Sie die Verbindung zu den DMMs aufbauen und einen Reset durchführen. "
   ]
  },
  {
   "cell_type": "code",
   "execution_count": null,
   "metadata": {},
   "outputs": [],
   "source": [
    "timeoutVal = 1\n",
    "\n",
    "port = voltPort\n",
    "\n",
    "try :\n",
    "    volt = serial.Serial(port, timeout = timeoutVal)\n",
    "except : \n",
    "    volt.close()\n",
    "    volt = serial.Serial(port, timeout = timeoutVal)\n",
    "print(\"Voltmeter connected to \", volt.name)"
   ]
  },
  {
   "cell_type": "code",
   "execution_count": null,
   "metadata": {},
   "outputs": [],
   "source": [
    "timeoutVal = 1\n",
    "\n",
    "port = currPort\n",
    "\n",
    "try :\n",
    "    curr = serial.Serial(port, timeout = timeoutVal)\n",
    "except : \n",
    "    curr.close()\n",
    "    curr = serial.Serial(port, timeout = timeoutVal)\n",
    "print(\"Amperemeter connected to \", curr.name)"
   ]
  },
  {
   "cell_type": "code",
   "execution_count": null,
   "metadata": {},
   "outputs": [],
   "source": [
    "# Befehl an Gerät (Reset)\n",
    "numBytes = curr.write(b'')\n",
    "print(\"Zahl der übertragenen Bytes:\", numBytes)\n",
    "print(curr.readline())\n",
    "time.sleep(2)\n",
    "print(curr.readline())\n",
    "print(curr.readline())"
   ]
  },
  {
   "cell_type": "code",
   "execution_count": null,
   "metadata": {},
   "outputs": [],
   "source": [
    "# Befehl an Gerät (Reset)\n",
    "numBytes = volt.write(b'')\n",
    "print(\"Zahl der übertragenen Bytes:\", numBytes)\n",
    "print(volt.readline())\n",
    "time.sleep(2)\n",
    "print(volt.readline())\n",
    "print(volt.readline())"
   ]
  },
  {
   "cell_type": "code",
   "execution_count": null,
   "metadata": {},
   "outputs": [],
   "source": [
    "# Befehl an Gerät (Spannungsmessung)\n",
    "numBytes = volt.write(b'')              \n",
    "print(\"Zahl der übertragenen Bytes:\", numBytes)\n",
    "print(volt.readline())\n",
    "time.sleep(2)                               \n",
    "print(volt.readline())\n",
    "print(volt.readline())"
   ]
  },
  {
   "cell_type": "code",
   "execution_count": null,
   "metadata": {},
   "outputs": [],
   "source": [
    "# Befehl an Gerät (Strommessung)\n",
    "numBytes = curr.write(b'')                     \n",
    "print(\"Zahl der übertragenen Bytes:\", numBytes)\n",
    "print(curr.readline())\n",
    "time.sleep(2)                                      \n",
    "print(curr.readline())\n",
    "print(curr.readline())"
   ]
  },
  {
   "cell_type": "code",
   "execution_count": null,
   "metadata": {},
   "outputs": [],
   "source": [
    "# Messung des Stroms \n",
    "numBytes = curr.write(b'')\n",
    "current = curr.readline()\n",
    "print('current=', current)\n",
    "\n",
    "ackValue = curr.readline()\n",
    "print(ackValue)\n",
    "ackValue = curr.readline()\n",
    "print(ackValue)\n",
    "ackValue = curr.readline()\n",
    "print(ackValue)"
   ]
  },
  {
   "cell_type": "code",
   "execution_count": null,
   "metadata": {},
   "outputs": [],
   "source": [
    "# Messung der Spannung\n",
    "numBytes = volt.write(b'')\n",
    "voltage = volt.readline()\n",
    "print('voltage=', voltage)\n",
    "\n",
    "ackValue = volt.readline()\n",
    "print(ackValue)\n",
    "ackValue = volt.readline()\n",
    "print(ackValue)"
   ]
  },
  {
   "cell_type": "markdown",
   "metadata": {},
   "source": [
    "Zur Umwandlung des empfangenen Strings in eine Fließkommavariable gibt es mehrere Möglichkeiten. Da in vielen numerischen Projekten häufig das Paket numpy verwendet wird, verwenden wir es hier auch, allerdings sparsam: "
   ]
  },
  {
   "cell_type": "code",
   "execution_count": null,
   "metadata": {},
   "outputs": [],
   "source": [
    "#import numpy as np          # so wird das gesamte numpy Paket importiert \n",
    "                             # die Methode kann dann unter dem alias np aufgerufen werden:   np.float(())\n",
    "\n",
    "#U = np.float(voltage)    \n",
    "#I = np.float(current)\n",
    "    \n",
    "from numpy import float  as np_float    # das ist ein sparsamerer Import, der nur die Methode float importiert\n",
    "                                        # und unter dem alias \"np_float\" verfügbar macht\n",
    "\n",
    "U = np_float(voltage)\n",
    "I = np_float(current)\n",
    "R = U / I \n",
    "\n",
    "print('U =', U, 'I =', I, 'R =', R)"
   ]
  },
  {
   "cell_type": "markdown",
   "metadata": {},
   "source": [
    "Führen Sie die Vierleitermessung sowohl in der spannungsrichtigen als auch in der stromrichtigen Variante durch und protokollieren Sie die Messergebnisse hier: \n",
    "\n"
   ]
  },
  {
   "cell_type": "markdown",
   "metadata": {},
   "source": [
    "## Halbautomatisierte Messung\n",
    "Grundsätzlich können mit den oben kennengelernten Befehlssequenzen beliebig lange\n",
    "Messreihen durchgeführt werden. Um die Handhabung zu erleichtern, wurden die Befehlssequenzen\n",
    "in kleine Unterprogramme gepackt, die durch Python-Funktionsaufrufe gestartet werden können. Damit sind einfach halb- und vollautomatische Messungen durchführbar.\n",
    "\n",
    "### Software\n",
    "Für die Durchfürung der halbautomatisierten Messung dient das Modul dmm.py, das zahreiche\n",
    "hilfreiche Methoden bereitstellt. Ein Blick in den Quellcode ist zur Vorbereitung sinnvoll.\n",
    "\n",
    "### Anschluss und Einstellung der Multimeter\n",
    "Legen Sie fest, welches der Multimeter als Voltmeter und welches als Amperemeter verwendet\n",
    "werden soll.\n",
    "\n",
    "### Aufbau der Messschaltung\n",
    "Die Messschaltung soll als spannungsrichtige Vierleitermessung aufgebaut werden."
   ]
  },
  {
   "cell_type": "markdown",
   "metadata": {},
   "source": [
    "### Versuchsplatine\n",
    "Der zu vermessende Relaiskontakt befindet sich auf der Relaisplatine, die in Abb. 9 dargestellt ist.\n",
    "Der Schaltplan findet sich in Abb. 10.\n",
    "\n",
    "![Verwendete Relaisplatine](Abb_Relaisplatine_Foto.png \"Abbildung 8: Verwendete Relaisplatine\")\n",
    "\n",
    "![Schaltplan Laborplatine](Abb_Relaisplatine_Schaltplan.png \"Abbildung 9: Schaltplan Laborplatine\")\n",
    "\n",
    "Die Versorgungsspannung der Relaisplatine („Steuerspannung“) ist auf +12VDC einzustellen\n",
    "und an die Anschlüsse V+ und GND anzulegen (Abb. 8, oben links). Die\n",
    "Lastspannung ist auf +5VDC einzustellen und über die Anschlüsse V_Last und GND\n",
    "anzuschließen."
   ]
  },
  {
   "cell_type": "markdown",
   "metadata": {},
   "source": [
    "### Messung des Kontaktwiderstands"
   ]
  },
  {
   "cell_type": "markdown",
   "metadata": {},
   "source": [
    "Vor dem Fortfahren ist \"Kernel -> Restart & Clear Output\" empfehlenswert"
   ]
  },
  {
   "cell_type": "code",
   "execution_count": null,
   "metadata": {},
   "outputs": [],
   "source": [
    "import dmm                                        # Modul zum Steuern des DMM HsKA-EIT\n",
    "import serial\n",
    "import time\n",
    "import pandas as pd\n",
    "import numpy as np\n",
    "from IPython.display import clear_output\n",
    "from termcolor import colored\n",
    "import matplotlib.pyplot as plt\n",
    "\n",
    "\n",
    "dmm.vPort = ''\n",
    "dmm.cPort = ''\n",
    "\n",
    "numSwitchEvents = 10\n",
    "numMeasurements = 25"
   ]
  },
  {
   "cell_type": "code",
   "execution_count": null,
   "metadata": {},
   "outputs": [],
   "source": [
    "#vConn.close()\n",
    "#cConn.close()"
   ]
  },
  {
   "cell_type": "code",
   "execution_count": null,
   "metadata": {},
   "outputs": [],
   "source": [
    "vConn = dmm.connectDMM(dmm.vPort)\n",
    "cConn = dmm.connectDMM(dmm.cPort)"
   ]
  },
  {
   "cell_type": "code",
   "execution_count": null,
   "metadata": {},
   "outputs": [],
   "source": [
    "# Lesebefehl abschicken und Ergebnis absichtlich nicht abholen\n",
    "vConn.write(b'')\n",
    "cConn.write(b'')\n",
    "\n",
    "# seriellen Eingangspuffer löschen\n",
    "dmm.flushSerialInput(vConn)\n",
    "dmm.flushSerialInput(cConn)\n",
    "print(\"serial input buffer flushed\")"
   ]
  },
  {
   "cell_type": "code",
   "execution_count": null,
   "metadata": {},
   "outputs": [],
   "source": [
    "val = dmm.readPrimary(vConn)\n",
    "print(\"val = \",val)\n",
    "val = dmm.readPrimary(cConn)\n",
    "print(\"val = \",val)"
   ]
  },
  {
   "cell_type": "code",
   "execution_count": null,
   "metadata": {},
   "outputs": [],
   "source": [
    "vConn.write(b'')\n",
    "time.sleep(1)\n",
    "ack1 = vConn.readline()\n",
    "time.sleep(1)\n",
    "ack2 = vConn.readline()\n",
    "print('ack1 = ', ack1)\n",
    "print('ack2 = ', ack2)"
   ]
  },
  {
   "cell_type": "code",
   "execution_count": null,
   "metadata": {},
   "outputs": [],
   "source": [
    "vConn.close()\n",
    "cConn.close()"
   ]
  },
  {
   "cell_type": "markdown",
   "metadata": {},
   "source": [
    "Verdrahten Sie die Relais-Platine für spannungsrichtige Vierleitermessung. Stellen Sie dazu am Labornetzteil eine Strombegrenzung von ca. 100 mA ein. Die DMMs sind standardmäßig auf Auto Range geschaltet. Das ist für diesen Versuchsteil ungünstig. Es sollte vor der automatischen Messung jeweils manuell (an der Frontplatte des DMM) ein passender Messbereich eingestellt werden. Dazu muss das DMM vorübergehend wieder auf lokalen Betrieb geschaltet werden (Taste \"Local\"). \n",
    "\n",
    "Überprüfen Sie die Anzeigewerte, indem Sie das Relais anziehen lassen. Korrigieren Sie ggf. den Messbereich. Erst wenn alles richtig eingestellt ist, soll die automatische Messwertaufnahme gestartet werden. \n"
   ]
  },
  {
   "cell_type": "code",
   "execution_count": null,
   "metadata": {},
   "outputs": [],
   "source": [
    "# automatische Messwertaufnahme\n",
    "result = dmm.measureRemote(numSwitchEvents, numMeasurements)"
   ]
  },
  {
   "cell_type": "markdown",
   "metadata": {},
   "source": [
    "Die Messergebnisse sind in einem Pandas DataFrame abelegt und können über die Spalten- und Zeilenbezeichner adressiert werden. Dabei muss der Typ des Bezeichners beachtet werden. Hier ist der Spaltenbezeichner vom Typ String und der Zeilenbezeichner vom Typ Integer."
   ]
  },
  {
   "cell_type": "code",
   "execution_count": null,
   "metadata": {},
   "outputs": [],
   "source": [
    "result"
   ]
  },
  {
   "cell_type": "code",
   "execution_count": null,
   "metadata": {},
   "outputs": [],
   "source": [
    "# Zugriff auf Spalte 'voltage_1' und Zeile 3\n",
    "result['voltage_1'][3]"
   ]
  },
  {
   "cell_type": "markdown",
   "metadata": {},
   "source": [
    "Jetzt werden die Widerstandswerte für jede Messreihe als Quotient aus Spannung und Strom berechnet und in einer Liste abgelegt."
   ]
  },
  {
   "cell_type": "code",
   "execution_count": null,
   "metadata": {},
   "outputs": [],
   "source": [
    "# eventuelle frühere Instanzen von resistance werden gelöscht\n",
    "#resistance.clear()\n",
    "# resistance wird neu als Liste initialisiert\n",
    "resistance = []\n",
    "print(resistance)"
   ]
  },
  {
   "cell_type": "code",
   "execution_count": null,
   "metadata": {},
   "outputs": [],
   "source": [
    "for i in range(numSwitchEvents) :\n",
    "    resistance.append(result['voltage_' + str(i+1)]/result['current_' + str(i+1)])\n",
    "print(resistance)"
   ]
  },
  {
   "cell_type": "markdown",
   "metadata": {},
   "source": [
    "Für jede Messreihe wird jetzt der Mittelwert berechnet, es ergibt sich eine Liste der Mittelwerte."
   ]
  },
  {
   "cell_type": "code",
   "execution_count": null,
   "metadata": {},
   "outputs": [],
   "source": [
    "resMean = []\n",
    "\n",
    "for i in range(numSwitchEvents) : \n",
    "    resMean.append(resistance[i].mean())\n",
    "resMean"
   ]
  },
  {
   "cell_type": "markdown",
   "metadata": {},
   "source": [
    "Analog für die Standardabweichungen:"
   ]
  },
  {
   "cell_type": "code",
   "execution_count": null,
   "metadata": {},
   "outputs": [],
   "source": [
    "resStd = []\n",
    "\n",
    "for i in range(numSwitchEvents) : \n",
    "    resStd.append(resistance[i].std())\n",
    "resStd"
   ]
  },
  {
   "cell_type": "code",
   "execution_count": null,
   "metadata": {},
   "outputs": [],
   "source": [
    "x = []\n",
    "\n",
    "for i in range(numSwitchEvents) : \n",
    "    x.append(i)\n",
    "x"
   ]
  },
  {
   "cell_type": "code",
   "execution_count": null,
   "metadata": {},
   "outputs": [],
   "source": [
    "# Mittelwert der Widerstandsmittelwerte\n",
    "resMeanValue = np.mean(resMean)\n",
    "resMedianValue = np.median(resMean)\n",
    "print('mean = ', resMeanValue, 'median = ', resMedianValue)"
   ]
  },
  {
   "cell_type": "markdown",
   "metadata": {},
   "source": [
    "## Plotten der Messergebnisse und Standardabweichung"
   ]
  },
  {
   "cell_type": "code",
   "execution_count": null,
   "metadata": {},
   "outputs": [],
   "source": [
    "plt.plot(resMean, linestyle='None', marker='x')\n",
    "plt.errorbar(x,y=resMean, yerr=resStd,linestyle='None')\n",
    "plt.hlines(resMeanValue,x[0],x[numSwitchEvents-1],color='green', label='Mittelwert')\n",
    "plt.hlines(resMedianValue,x[0],x[numSwitchEvents-1],color='red', label='Median')\n",
    "plt.show()"
   ]
  },
  {
   "cell_type": "markdown",
   "metadata": {},
   "source": [
    "Kommentieren Sie die graphische Darstellung. Was lässt sich über den Kontaktwiderstand und das Messverfahren aussagen?"
   ]
  },
  {
   "cell_type": "markdown",
   "metadata": {},
   "source": [
    "Für schnelle und besonders neugierige Studierende: Wiederholen Sie die halbautomatisierte Messung mit dem Kontakt des Reed-Relais. Reduzieren Sie die Strombegrenzung dazu aber auf ca. 20 mA. Wenn das mit dem Einstellknopf am Labornetzteil nicht gelingt, verwenden Sie einen Strombegrenzungswiderstand. "
   ]
  }
 ],
 "metadata": {
  "kernelspec": {
   "display_name": "Python 3",
   "language": "python",
   "name": "python3"
  },
  "language_info": {
   "codemirror_mode": {
    "name": "ipython",
    "version": 3
   },
   "file_extension": ".py",
   "mimetype": "text/x-python",
   "name": "python",
   "nbconvert_exporter": "python",
   "pygments_lexer": "ipython3",
   "version": "3.6.9"
  }
 },
 "nbformat": 4,
 "nbformat_minor": 4
}
